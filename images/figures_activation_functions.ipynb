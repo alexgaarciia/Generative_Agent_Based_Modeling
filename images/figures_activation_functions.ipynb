{
 "cells": [
  {
   "cell_type": "markdown",
   "id": "69908197",
   "metadata": {},
   "source": [
    "## Imports"
   ]
  },
  {
   "cell_type": "code",
   "execution_count": null,
   "id": "56d9cbb8",
   "metadata": {},
   "outputs": [],
   "source": [
    "import matplotlib.pyplot as plt\n",
    "import numpy as np"
   ]
  },
  {
   "cell_type": "markdown",
   "id": "20ce06b8",
   "metadata": {},
   "source": [
    "## ReLU, Sigmoid, Tanh"
   ]
  },
  {
   "cell_type": "code",
   "execution_count": null,
   "id": "f7f85b76",
   "metadata": {},
   "outputs": [],
   "source": [
    "# Define x range\n",
    "x = np.linspace(-10, 10, 400)\n",
    "\n",
    "# Define activation functions\n",
    "relu = np.maximum(0, x)\n",
    "sigmoid = 1 / (1 + np.exp(-x))\n",
    "tanh = np.tanh(x)\n",
    "\n",
    "# Plot and save ReLU\n",
    "plt.figure(figsize=(5, 4))\n",
    "plt.plot(x, relu, label=\"ReLU\")\n",
    "plt.title(\"ReLU Activation Function\")\n",
    "plt.grid(True)\n",
    "plt.axhline(0, color='black', linewidth=0.5)\n",
    "plt.axvline(0, color='black', linewidth=0.5)\n",
    "plt.tight_layout()\n",
    "\n",
    "# Plot and save Sigmoid\n",
    "plt.figure(figsize=(5, 4))\n",
    "plt.plot(x, sigmoid, label=\"Sigmoid\", color='orange')\n",
    "plt.title(\"Sigmoid Activation Function\")\n",
    "plt.grid(True)\n",
    "plt.axhline(0, color='black', linewidth=0.5)\n",
    "plt.axvline(0, color='black', linewidth=0.5)\n",
    "plt.tight_layout()\n",
    "\n",
    "# Plot and save Tanh\n",
    "plt.figure(figsize=(5, 4))\n",
    "plt.plot(x, tanh, label=\"Tanh\", color='green')\n",
    "plt.title(\"Tanh Activation Function\")\n",
    "plt.grid(True)\n",
    "plt.axhline(0, color='black', linewidth=0.5)\n",
    "plt.axvline(0, color='black', linewidth=0.5)\n",
    "plt.tight_layout()"
   ]
  },
  {
   "cell_type": "markdown",
   "id": "231705ea",
   "metadata": {},
   "source": [
    "## Sigmoid, Softmax"
   ]
  },
  {
   "cell_type": "code",
   "execution_count": null,
   "id": "97de30e0",
   "metadata": {},
   "outputs": [],
   "source": [
    "# Define x range\n",
    "x = np.linspace(-10, 10, 400)\n",
    "\n",
    "# Define activation functions\n",
    "sigmoid = 1 / (1 + np.exp(-x))\n",
    "\n",
    "# Softmax: for simplicity, assume softmax on 3 fixed values with one varying\n",
    "def softmax(x):\n",
    "    x_stack = np.vstack([x, np.zeros_like(x), -x])\n",
    "    e_x = np.exp(x_stack - np.max(x_stack, axis=0))\n",
    "    return e_x / e_x.sum(axis=0)\n",
    "\n",
    "softmax_values = softmax(x)\n",
    "\n",
    "# Plot and save Sigmoid\n",
    "plt.figure(figsize=(5, 4))\n",
    "plt.plot(x, sigmoid, label=\"Sigmoid\", color='orange')\n",
    "plt.title(\"Sigmoid Activation Function\")\n",
    "plt.grid(True)\n",
    "plt.axhline(0, color='black', linewidth=0.5)\n",
    "plt.axvline(0, color='black', linewidth=0.5)\n",
    "plt.tight_layout()\n",
    "\n",
    "# Plot and save Softmax\n",
    "plt.figure(figsize=(5, 4))\n",
    "plt.plot(x, softmax_values[0], color='blue')\n",
    "plt.title(\"Softmax Activation Function\")\n",
    "plt.grid(True)\n",
    "plt.axhline(0, color='black', linewidth=0.5)\n",
    "plt.axvline(0, color='black', linewidth=0.5)\n",
    "plt.tight_layout()"
   ]
  }
 ],
 "metadata": {
  "kernelspec": {
   "display_name": "Python 3",
   "language": "python",
   "name": "python3"
  },
  "language_info": {
   "codemirror_mode": {
    "name": "ipython",
    "version": 3
   },
   "file_extension": ".py",
   "mimetype": "text/x-python",
   "name": "python",
   "nbconvert_exporter": "python",
   "pygments_lexer": "ipython3",
   "version": "3.11.9"
  }
 },
 "nbformat": 4,
 "nbformat_minor": 5
}
